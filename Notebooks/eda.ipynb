{
  "nbformat": 4,
  "nbformat_minor": 0,
  "metadata": {
    "colab": {
      "name": "eda.ipynb",
      "provenance": [],
      "collapsed_sections": []
    },
    "kernelspec": {
      "name": "python3",
      "display_name": "Python 3"
    }
  },
  "cells": [
    {
      "cell_type": "code",
      "metadata": {
        "id": "MYtQu5WQKRKp",
        "colab_type": "code",
        "colab": {}
      },
      "source": [
        "# install java libs and spark.\n",
        "! apt-get install openjdk-8-jdk-headless -qq > /dev/null\n",
        "! wget -q https://www-us.apache.org/dist/spark/spark-2.4.4/spark-2.4.4-bin-hadoop2.7.tgz\n",
        "! tar xf spark-2.4.4-bin-hadoop2.7.tgz\n",
        "! pip install -q findspark\n",
        "import os\n",
        "os.environ[\"JAVA_HOME\"] = \"/usr/lib/jvm/java-8-openjdk-amd64\"\n",
        "os.environ[\"SPARK_HOME\"] = \"/content/spark-2.4.4-bin-hadoop2.7\""
      ],
      "execution_count": 0,
      "outputs": []
    },
    {
      "cell_type": "markdown",
      "metadata": {
        "id": "d7yczuTk_zEn",
        "colab_type": "text"
      },
      "source": [
        "### Mount Drive"
      ]
    },
    {
      "cell_type": "code",
      "metadata": {
        "id": "hIhnOcbDKgLU",
        "colab_type": "code",
        "outputId": "cf8348e5-bd1e-4ab9-9755-f2fd93919b13",
        "colab": {
          "base_uri": "https://localhost:8080/",
          "height": 122
        }
      },
      "source": [
        "from google.colab import drive\n",
        "drive.mount('/content/drive')"
      ],
      "execution_count": 0,
      "outputs": [
        {
          "output_type": "stream",
          "text": [
            "Go to this URL in a browser: https://accounts.google.com/o/oauth2/auth?client_id=947318989803-6bn6qk8qdgf4n4g3pfee6491hc0brc4i.apps.googleusercontent.com&redirect_uri=urn%3aietf%3awg%3aoauth%3a2.0%3aoob&response_type=code&scope=email%20https%3a%2f%2fwww.googleapis.com%2fauth%2fdocs.test%20https%3a%2f%2fwww.googleapis.com%2fauth%2fdrive%20https%3a%2f%2fwww.googleapis.com%2fauth%2fdrive.photos.readonly%20https%3a%2f%2fwww.googleapis.com%2fauth%2fpeopleapi.readonly\n",
            "\n",
            "Enter your authorization code:\n",
            "··········\n",
            "Mounted at /content/drive\n"
          ],
          "name": "stdout"
        }
      ]
    },
    {
      "cell_type": "markdown",
      "metadata": {
        "id": "f4fl0yoc_-sV",
        "colab_type": "text"
      },
      "source": [
        "### Install pyspark"
      ]
    },
    {
      "cell_type": "code",
      "metadata": {
        "id": "xZM03ITnKlJR",
        "colab_type": "code",
        "outputId": "885bb751-7ded-43ae-a320-528f752051a0",
        "colab": {
          "base_uri": "https://localhost:8080/",
          "height": 238
        }
      },
      "source": [
        "pip install pyspark"
      ],
      "execution_count": 0,
      "outputs": [
        {
          "output_type": "stream",
          "text": [
            "Collecting pyspark\n",
            "\u001b[?25l  Downloading https://files.pythonhosted.org/packages/9a/5a/271c416c1c2185b6cb0151b29a91fff6fcaed80173c8584ff6d20e46b465/pyspark-2.4.5.tar.gz (217.8MB)\n",
            "\u001b[K     |████████████████████████████████| 217.8MB 58kB/s \n",
            "\u001b[?25hCollecting py4j==0.10.7\n",
            "\u001b[?25l  Downloading https://files.pythonhosted.org/packages/e3/53/c737818eb9a7dc32a7cd4f1396e787bd94200c3997c72c1dbe028587bd76/py4j-0.10.7-py2.py3-none-any.whl (197kB)\n",
            "\u001b[K     |████████████████████████████████| 204kB 34.7MB/s \n",
            "\u001b[?25hBuilding wheels for collected packages: pyspark\n",
            "  Building wheel for pyspark (setup.py) ... \u001b[?25l\u001b[?25hdone\n",
            "  Created wheel for pyspark: filename=pyspark-2.4.5-py2.py3-none-any.whl size=218257927 sha256=cd1854947d23411faabb6012324dc1fb65100e8d9ac3d144e6e1dd843d96b3a9\n",
            "  Stored in directory: /root/.cache/pip/wheels/bf/db/04/61d66a5939364e756eb1c1be4ec5bdce6e04047fc7929a3c3c\n",
            "Successfully built pyspark\n",
            "Installing collected packages: py4j, pyspark\n",
            "Successfully installed py4j-0.10.7 pyspark-2.4.5\n"
          ],
          "name": "stdout"
        }
      ]
    },
    {
      "cell_type": "markdown",
      "metadata": {
        "id": "IkJ7_ixLYTVV",
        "colab_type": "text"
      },
      "source": [
        "### Load Libraries"
      ]
    },
    {
      "cell_type": "code",
      "metadata": {
        "id": "QDiny2b26gFI",
        "colab_type": "code",
        "colab": {}
      },
      "source": [
        "from pyspark.sql import SparkSession\n",
        "from pyspark.ml.feature import Tokenizer, StopWordsRemover\n",
        "from pyspark.sql.functions import *\n",
        "import matplotlib.pyplot as plt\n",
        "import seaborn as sns\n",
        "import pandas as pd"
      ],
      "execution_count": 0,
      "outputs": []
    },
    {
      "cell_type": "markdown",
      "metadata": {
        "id": "fSX-vyKPAC88",
        "colab_type": "text"
      },
      "source": [
        "### Start Spark Session"
      ]
    },
    {
      "cell_type": "code",
      "metadata": {
        "id": "FZgMfO-9KwZo",
        "colab_type": "code",
        "colab": {}
      },
      "source": [
        "APP_NAME = \"EDA1\"\n",
        "SPARK_URL = \"local[*]\""
      ],
      "execution_count": 0,
      "outputs": []
    },
    {
      "cell_type": "code",
      "metadata": {
        "id": "Uwl0mY0rLCuc",
        "colab_type": "code",
        "colab": {}
      },
      "source": [
        "spark = SparkSession.builder.appName(APP_NAME).master(SPARK_URL).getOrCreate()"
      ],
      "execution_count": 0,
      "outputs": []
    },
    {
      "cell_type": "markdown",
      "metadata": {
        "id": "omNomjfIAPPp",
        "colab_type": "text"
      },
      "source": [
        "### Load Data"
      ]
    },
    {
      "cell_type": "code",
      "metadata": {
        "id": "im4SuKZlLHe_",
        "colab_type": "code",
        "colab": {}
      },
      "source": [
        "df = spark.read.json('/content/drive/My Drive/Movies_and_TV.json.gz')"
      ],
      "execution_count": 0,
      "outputs": []
    },
    {
      "cell_type": "code",
      "metadata": {
        "id": "V-xDaM81hp1q",
        "colab_type": "code",
        "outputId": "d60e0f85-e70d-4bb6-f1ff-493e18f067d4",
        "colab": {
          "base_uri": "https://localhost:8080/",
          "height": 204
        }
      },
      "source": [
        "### Get Columns needed\n",
        "df = df.select('overall', 'reviewText', 'summary')\n",
        "df.show(5)"
      ],
      "execution_count": 0,
      "outputs": [
        {
          "output_type": "stream",
          "text": [
            "+-------+--------------------+--------------------+\n",
            "|overall|          reviewText|             summary|\n",
            "+-------+--------------------+--------------------+\n",
            "|    5.0|really happy they...|               great|\n",
            "|    5.0|Having lived in W...|Realistic and Acc...|\n",
            "|    5.0|Excellent look in...|         Peace Child|\n",
            "|    5.0|More than anythin...|Culturally releva...|\n",
            "|    4.0|This is a great m...|Good Movie! Great...|\n",
            "+-------+--------------------+--------------------+\n",
            "only showing top 5 rows\n",
            "\n"
          ],
          "name": "stdout"
        }
      ]
    },
    {
      "cell_type": "code",
      "metadata": {
        "id": "8gTVb68NES3B",
        "colab_type": "code",
        "outputId": "80b107c7-6402-4f2a-956d-8d6c90dbe41f",
        "colab": {
          "base_uri": "https://localhost:8080/",
          "height": 68
        }
      },
      "source": [
        "### Number of null values by column \n",
        "print('Null reviewText:', df.where((df[\"reviewText\"].isNull())).count())\n",
        "print('Null overall:', df.where((df[\"overall\"].isNull())).count())\n",
        "print('Null summary:',df.where((df[\"summary\"].isNull())).count())"
      ],
      "execution_count": 0,
      "outputs": [
        {
          "output_type": "stream",
          "text": [
            "Null reviewText: 8023\n",
            "Null overall: 0\n",
            "Null summary: 2189\n"
          ],
          "name": "stdout"
        }
      ]
    },
    {
      "cell_type": "code",
      "metadata": {
        "id": "VPcRZlhCIVsF",
        "colab_type": "code",
        "outputId": "477fef61-b780-40a6-bcf6-f842c416e619",
        "colab": {
          "base_uri": "https://localhost:8080/",
          "height": 34
        }
      },
      "source": [
        "### Drop na values\n",
        "df = df.na.drop()\n",
        "df.count()"
      ],
      "execution_count": 0,
      "outputs": [
        {
          "output_type": "execute_result",
          "data": {
            "text/plain": [
              "8755633"
            ]
          },
          "metadata": {
            "tags": []
          },
          "execution_count": 12
        }
      ]
    },
    {
      "cell_type": "markdown",
      "metadata": {
        "id": "1MaVKD1WZNMj",
        "colab_type": "text"
      },
      "source": [
        "### Graphical Representation of overall column "
      ]
    },
    {
      "cell_type": "code",
      "metadata": {
        "id": "L0W86xhvanM0",
        "colab_type": "code",
        "outputId": "16ff333f-cb24-462e-fe13-a80877e7722b",
        "colab": {
          "base_uri": "https://localhost:8080/",
          "height": 187
        }
      },
      "source": [
        "### Get overall Count\n",
        "o_count = df.groupBy(\"overall\").count()\n",
        "o_count.show()"
      ],
      "execution_count": 0,
      "outputs": [
        {
          "output_type": "stream",
          "text": [
            "+-------+-------+\n",
            "|overall|  count|\n",
            "+-------+-------+\n",
            "|    1.0| 632711|\n",
            "|    4.0|1496685|\n",
            "|    3.0| 735541|\n",
            "|    2.0| 406700|\n",
            "|    5.0|5483996|\n",
            "+-------+-------+\n",
            "\n"
          ],
          "name": "stdout"
        }
      ]
    },
    {
      "cell_type": "code",
      "metadata": {
        "id": "Z-VnAMMZZNxI",
        "colab_type": "code",
        "outputId": "a9dc9731-488b-427b-f45c-aa621dfab997",
        "colab": {
          "base_uri": "https://localhost:8080/",
          "height": 204
        }
      },
      "source": [
        "### Convert to pandas \n",
        "plot_df = o_count.toPandas()\n",
        "plot_df.head()"
      ],
      "execution_count": 0,
      "outputs": [
        {
          "output_type": "execute_result",
          "data": {
            "text/html": [
              "<div>\n",
              "<style scoped>\n",
              "    .dataframe tbody tr th:only-of-type {\n",
              "        vertical-align: middle;\n",
              "    }\n",
              "\n",
              "    .dataframe tbody tr th {\n",
              "        vertical-align: top;\n",
              "    }\n",
              "\n",
              "    .dataframe thead th {\n",
              "        text-align: right;\n",
              "    }\n",
              "</style>\n",
              "<table border=\"1\" class=\"dataframe\">\n",
              "  <thead>\n",
              "    <tr style=\"text-align: right;\">\n",
              "      <th></th>\n",
              "      <th>overall</th>\n",
              "      <th>count</th>\n",
              "    </tr>\n",
              "  </thead>\n",
              "  <tbody>\n",
              "    <tr>\n",
              "      <th>0</th>\n",
              "      <td>1.0</td>\n",
              "      <td>632711</td>\n",
              "    </tr>\n",
              "    <tr>\n",
              "      <th>1</th>\n",
              "      <td>4.0</td>\n",
              "      <td>1496685</td>\n",
              "    </tr>\n",
              "    <tr>\n",
              "      <th>2</th>\n",
              "      <td>3.0</td>\n",
              "      <td>735541</td>\n",
              "    </tr>\n",
              "    <tr>\n",
              "      <th>3</th>\n",
              "      <td>2.0</td>\n",
              "      <td>406700</td>\n",
              "    </tr>\n",
              "    <tr>\n",
              "      <th>4</th>\n",
              "      <td>5.0</td>\n",
              "      <td>5483996</td>\n",
              "    </tr>\n",
              "  </tbody>\n",
              "</table>\n",
              "</div>"
            ],
            "text/plain": [
              "   overall    count\n",
              "0      1.0   632711\n",
              "1      4.0  1496685\n",
              "2      3.0   735541\n",
              "3      2.0   406700\n",
              "4      5.0  5483996"
            ]
          },
          "metadata": {
            "tags": []
          },
          "execution_count": 14
        }
      ]
    },
    {
      "cell_type": "code",
      "metadata": {
        "id": "syruC2MfZqBJ",
        "colab_type": "code",
        "outputId": "431446b5-4f79-476f-fbda-f1cb909a3d05",
        "colab": {
          "base_uri": "https://localhost:8080/",
          "height": 542
        }
      },
      "source": [
        "### plot \n",
        "sns.set()\n",
        "plt.figure(figsize=(20,8))\n",
        "sns.barplot(data = plot_df, x = 'overall', y = 'count')\n",
        "plt.ylabel('Count', fontsize = 15)\n",
        "plt.xlabel('Overall',fontsize = 15)\n",
        "plt.title('Overall Count',fontsize = 20)"
      ],
      "execution_count": 0,
      "outputs": [
        {
          "output_type": "execute_result",
          "data": {
            "text/plain": [
              "Text(0.5, 1.0, 'Overall Count')"
            ]
          },
          "metadata": {
            "tags": []
          },
          "execution_count": 15
        },
        {
          "output_type": "display_data",
          "data": {
            "image/png": "[encoded data removed]",
            "text/plain": [
              "<Figure size 1440x576 with 1 Axes>"
            ]
          },
          "metadata": {
            "tags": []
          }
        }
      ]
    },
    {
      "cell_type": "markdown",
      "metadata": {
        "id": "WcOSL77ExaiL",
        "colab_type": "text"
      },
      "source": [
        "### Categorize the length of reviews\n"
      ]
    },
    {
      "cell_type": "code",
      "metadata": {
        "id": "RPJQ1W7FArOp",
        "colab_type": "code",
        "colab": {}
      },
      "source": [
        "### Function to clean text to get better count\n",
        "def clean_text(c):\n",
        "  c = lower(c)\n",
        "  c = regexp_replace(c, \"^rt \", \"\")\n",
        "  c = regexp_replace(c, \"[\\=.]\",\" \")\n",
        "  c = regexp_replace(c, \"[^a-zA-Z0-9\\\\s]\", \"\")\n",
        "  c = regexp_replace(c, \"  \", \" \")\n",
        "  c = regexp_replace(c, \"   \", \" \")\n",
        "  return(c)"
      ],
      "execution_count": 0,
      "outputs": []
    },
    {
      "cell_type": "code",
      "metadata": {
        "id": "i3LijWW0AxPk",
        "colab_type": "code",
        "outputId": "2ed35cd8-cace-4b76-fb87-49bcd7d698ac",
        "colab": {
          "base_uri": "https://localhost:8080/",
          "height": 204
        }
      },
      "source": [
        "### Clean Review Text \n",
        "df = df.withColumn(\"clean_text\", clean_text(df[\"reviewText\"]))\n",
        "df.show(5)"
      ],
      "execution_count": 0,
      "outputs": [
        {
          "output_type": "stream",
          "text": [
            "+-------+--------------------+--------------------+--------------------+------+\n",
            "|overall|          reviewText|             summary|          clean_text|Length|\n",
            "+-------+--------------------+--------------------+--------------------+------+\n",
            "|    5.0|really happy they...|               great|really happy they...|    38|\n",
            "|    5.0|Having lived in W...|Realistic and Acc...|having lived in w...|    42|\n",
            "|    5.0|Excellent look in...|         Peace Child|excellent look in...|    31|\n",
            "|    5.0|More than anythin...|Culturally releva...|more than anythin...|    36|\n",
            "|    4.0|This is a great m...|Good Movie! Great...|this is a great m...|    33|\n",
            "+-------+--------------------+--------------------+--------------------+------+\n",
            "only showing top 5 rows\n",
            "\n"
          ],
          "name": "stdout"
        }
      ]
    },
    {
      "cell_type": "code",
      "metadata": {
        "id": "n2zSB1TTLi2J",
        "colab_type": "code",
        "outputId": "8ef6d4e4-dc73-42a6-903b-975bcf89cb10",
        "colab": {
          "base_uri": "https://localhost:8080/",
          "height": 459
        }
      },
      "source": [
        "### Create Length Column \n",
        "df = df.withColumn(\"Length\", size(split(df['clean_text'], ' ')))\n",
        "df.show()"
      ],
      "execution_count": 0,
      "outputs": [
        {
          "output_type": "stream",
          "text": [
            "+-------+--------------------+--------------------+--------------------+------+\n",
            "|overall|          reviewText|             summary|          clean_text|Length|\n",
            "+-------+--------------------+--------------------+--------------------+------+\n",
            "|    5.0|really happy they...|               great|really happy they...|    32|\n",
            "|    5.0|Having lived in W...|Realistic and Acc...|having lived in w...|    42|\n",
            "|    5.0|Excellent look in...|         Peace Child|excellent look in...|    29|\n",
            "|    5.0|More than anythin...|Culturally releva...|more than anythin...|    35|\n",
            "|    4.0|This is a great m...|Good Movie! Great...|this is a great m...|    32|\n",
            "|    5.0|This movie was in...|           Great....|this movie was in...|    25|\n",
            "|    5.0|This is a fascina...|A remarkable true...|this is a fascina...|    42|\n",
            "|    1.0|This DVD appears ...|     Peace Child DVD|this dvd appears ...|    30|\n",
            "|    1.0|This movie is not...|      Not in English|this movie is not...|    35|\n",
            "|    5.0|So sorry I didn't...|            Amazing!|so sorry i didnt ...|    64|\n",
            "|    5.0|Product received ...|A Reunion by Cath...|product received ...|    50|\n",
            "|    5.0|Believe me when I...|Great Gospel VHS ...|believe me when i...|    41|\n",
            "|    5.0|This video arrive...|Reunion The Cathe...|this video arrive...|    35|\n",
            "|    5.0|The Reunion of th...|Reunion - A Video...|the reunion of th...|    63|\n",
            "|    5.0|Wedding Music (3:...|   Track Listings!!!|wedding music 322...|   112|\n",
            "|    5.0|This is truly a m...|Great video-Super...|this is truly a m...|    57|\n",
            "|    4.0|It is an excellen...|That Billy Zoom S...|it is an excellen...|    88|\n",
            "|    5.0|I have a thing ag...|  Couldn't be better|i have a thing ag...|   152|\n",
            "|    5.0|This DVD is unbel...|   Worth Every Penny|this dvd is unbel...|    94|\n",
            "|    5.0|Just brought this...|X hasn't lost a step|just brought this...|   219|\n",
            "+-------+--------------------+--------------------+--------------------+------+\n",
            "only showing top 20 rows\n",
            "\n"
          ],
          "name": "stdout"
        }
      ]
    },
    {
      "cell_type": "code",
      "metadata": {
        "id": "SPacySeFffMU",
        "colab_type": "code",
        "outputId": "522e26dd-73e2-4362-a99a-826e97b82491",
        "colab": {
          "base_uri": "https://localhost:8080/",
          "height": 119
        }
      },
      "source": [
        "### Mean of Length column\n",
        "df.select(mean('Length')).show()"
      ],
      "execution_count": 0,
      "outputs": [
        {
          "output_type": "stream",
          "text": [
            "+-----------------+\n",
            "|      avg(Length)|\n",
            "+-----------------+\n",
            "|58.61044404213836|\n",
            "+-----------------+\n",
            "\n"
          ],
          "name": "stdout"
        }
      ]
    },
    {
      "cell_type": "code",
      "metadata": {
        "id": "rp9ZxyPCk5Gy",
        "colab_type": "code",
        "outputId": "3fdb99f8-648a-48e3-a504-eb9ee6e1356e",
        "colab": {
          "base_uri": "https://localhost:8080/",
          "height": 459
        }
      },
      "source": [
        "### Categorize the length of reviews\n",
        "df = df.withColumn(\"Type\", when(df.Length > 58.61044404213836, \"Long\").otherwise(\"Short\"))\n",
        "df.show()"
      ],
      "execution_count": 0,
      "outputs": [
        {
          "output_type": "stream",
          "text": [
            "+-------+--------------------+--------------------+--------------------+------+-----+\n",
            "|overall|          reviewText|             summary|          clean_text|Length| Type|\n",
            "+-------+--------------------+--------------------+--------------------+------+-----+\n",
            "|    5.0|really happy they...|               great|really happy they...|    32|Short|\n",
            "|    5.0|Having lived in W...|Realistic and Acc...|having lived in w...|    42|Short|\n",
            "|    5.0|Excellent look in...|         Peace Child|excellent look in...|    29|Short|\n",
            "|    5.0|More than anythin...|Culturally releva...|more than anythin...|    35|Short|\n",
            "|    4.0|This is a great m...|Good Movie! Great...|this is a great m...|    32|Short|\n",
            "|    5.0|This movie was in...|           Great....|this movie was in...|    25|Short|\n",
            "|    5.0|This is a fascina...|A remarkable true...|this is a fascina...|    42|Short|\n",
            "|    1.0|This DVD appears ...|     Peace Child DVD|this dvd appears ...|    30|Short|\n",
            "|    1.0|This movie is not...|      Not in English|this movie is not...|    35|Short|\n",
            "|    5.0|So sorry I didn't...|            Amazing!|so sorry i didnt ...|    64| Long|\n",
            "|    5.0|Product received ...|A Reunion by Cath...|product received ...|    50|Short|\n",
            "|    5.0|Believe me when I...|Great Gospel VHS ...|believe me when i...|    41|Short|\n",
            "|    5.0|This video arrive...|Reunion The Cathe...|this video arrive...|    35|Short|\n",
            "|    5.0|The Reunion of th...|Reunion - A Video...|the reunion of th...|    63| Long|\n",
            "|    5.0|Wedding Music (3:...|   Track Listings!!!|wedding music 322...|   112| Long|\n",
            "|    5.0|This is truly a m...|Great video-Super...|this is truly a m...|    57|Short|\n",
            "|    4.0|It is an excellen...|That Billy Zoom S...|it is an excellen...|    88| Long|\n",
            "|    5.0|I have a thing ag...|  Couldn't be better|i have a thing ag...|   152| Long|\n",
            "|    5.0|This DVD is unbel...|   Worth Every Penny|this dvd is unbel...|    94| Long|\n",
            "|    5.0|Just brought this...|X hasn't lost a step|just brought this...|   219| Long|\n",
            "+-------+--------------------+--------------------+--------------------+------+-----+\n",
            "only showing top 20 rows\n",
            "\n"
          ],
          "name": "stdout"
        }
      ]
    },
    {
      "cell_type": "code",
      "metadata": {
        "id": "L83r_TfRiJgw",
        "colab_type": "code",
        "outputId": "ab40b9f7-cdca-46ea-d566-e926d4a1ed64",
        "colab": {
          "base_uri": "https://localhost:8080/",
          "height": 136
        }
      },
      "source": [
        "### Count of Type\n",
        "df.groupBy('Type').count().show()"
      ],
      "execution_count": 0,
      "outputs": [
        {
          "output_type": "stream",
          "text": [
            "+-----+-------+\n",
            "| Type|  count|\n",
            "+-----+-------+\n",
            "| Long|2068732|\n",
            "|Short|6686901|\n",
            "+-----+-------+\n",
            "\n"
          ],
          "name": "stdout"
        }
      ]
    },
    {
      "cell_type": "markdown",
      "metadata": {
        "id": "TjoqAoVIUIG7",
        "colab_type": "text"
      },
      "source": [
        "### Get the count of most common words"
      ]
    },
    {
      "cell_type": "code",
      "metadata": {
        "id": "Rrsj1y-xUL3J",
        "colab_type": "code",
        "outputId": "e0a9b913-d1f8-411d-e5a6-846849490539",
        "colab": {
          "base_uri": "https://localhost:8080/",
          "height": 459
        }
      },
      "source": [
        "#### remove numbers from text\n",
        "df = df.withColumn(\"clean_text\",regexp_replace(col('clean_text'), '\\d+', ''))\n",
        "df.show()"
      ],
      "execution_count": 0,
      "outputs": [
        {
          "output_type": "stream",
          "text": [
            "+-------+--------------------+--------------------+--------------------+------+-----+\n",
            "|overall|          reviewText|             summary|          clean_text|Length| Type|\n",
            "+-------+--------------------+--------------------+--------------------+------+-----+\n",
            "|    5.0|really happy they...|               great|really happy they...|    32|Short|\n",
            "|    5.0|Having lived in W...|Realistic and Acc...|having lived in w...|    42|Short|\n",
            "|    5.0|Excellent look in...|         Peace Child|excellent look in...|    29|Short|\n",
            "|    5.0|More than anythin...|Culturally releva...|more than anythin...|    35|Short|\n",
            "|    4.0|This is a great m...|Good Movie! Great...|this is a great m...|    32|Short|\n",
            "|    5.0|This movie was in...|           Great....|this movie was in...|    25|Short|\n",
            "|    5.0|This is a fascina...|A remarkable true...|this is a fascina...|    42|Short|\n",
            "|    1.0|This DVD appears ...|     Peace Child DVD|this dvd appears ...|    30|Short|\n",
            "|    1.0|This movie is not...|      Not in English|this movie is not...|    35|Short|\n",
            "|    5.0|So sorry I didn't...|            Amazing!|so sorry i didnt ...|    64| Long|\n",
            "|    5.0|Product received ...|A Reunion by Cath...|product received ...|    50|Short|\n",
            "|    5.0|Believe me when I...|Great Gospel VHS ...|believe me when i...|    41|Short|\n",
            "|    5.0|This video arrive...|Reunion The Cathe...|this video arrive...|    35|Short|\n",
            "|    5.0|The Reunion of th...|Reunion - A Video...|the reunion of th...|    63| Long|\n",
            "|    5.0|Wedding Music (3:...|   Track Listings!!!|wedding music  ge...|   112| Long|\n",
            "|    5.0|This is truly a m...|Great video-Super...|this is truly a m...|    57|Short|\n",
            "|    4.0|It is an excellen...|That Billy Zoom S...|it is an excellen...|    88| Long|\n",
            "|    5.0|I have a thing ag...|  Couldn't be better|i have a thing ag...|   152| Long|\n",
            "|    5.0|This DVD is unbel...|   Worth Every Penny|this dvd is unbel...|    94| Long|\n",
            "|    5.0|Just brought this...|X hasn't lost a step|just brought this...|   219| Long|\n",
            "+-------+--------------------+--------------------+--------------------+------+-----+\n",
            "only showing top 20 rows\n",
            "\n"
          ],
          "name": "stdout"
        }
      ]
    },
    {
      "cell_type": "code",
      "metadata": {
        "id": "REPEo9wwp1XO",
        "colab_type": "code",
        "outputId": "a12b88fe-2960-4f1d-8952-e05f0ab9e6df",
        "colab": {
          "base_uri": "https://localhost:8080/",
          "height": 204
        }
      },
      "source": [
        "##### tokenize text \n",
        "tokenizer = Tokenizer(inputCol='clean_text', outputCol='words_token')\n",
        "df_words = tokenizer.transform(df).select('words_token')\n",
        "df_words.show(5)"
      ],
      "execution_count": 0,
      "outputs": [
        {
          "output_type": "stream",
          "text": [
            "+--------------------+\n",
            "|         words_token|\n",
            "+--------------------+\n",
            "|[really, happy, t...|\n",
            "|[having, lived, i...|\n",
            "|[excellent, look,...|\n",
            "|[more, than, anyt...|\n",
            "|[this, is, a, gre...|\n",
            "+--------------------+\n",
            "only showing top 5 rows\n",
            "\n"
          ],
          "name": "stdout"
        }
      ]
    },
    {
      "cell_type": "code",
      "metadata": {
        "id": "RXub0GUpqPco",
        "colab_type": "code",
        "outputId": "7bba6e8e-1477-495e-d78d-cffac900c8df",
        "colab": {
          "base_uri": "https://localhost:8080/",
          "height": 204
        }
      },
      "source": [
        "##### Remove stop words\n",
        "remover = StopWordsRemover(inputCol='words_token', outputCol='words_clean')\n",
        "df_words = remover.transform(df_words).select('words_clean')\n",
        "df_words.show(5)"
      ],
      "execution_count": 0,
      "outputs": [
        {
          "output_type": "stream",
          "text": [
            "+--------------------+\n",
            "|         words_clean|\n",
            "+--------------------+\n",
            "|[really, happy, g...|\n",
            "|[lived, west, new...|\n",
            "|[excellent, look,...|\n",
            "|[anything, ive, c...|\n",
            "|[great, movie, mi...|\n",
            "+--------------------+\n",
            "only showing top 5 rows\n",
            "\n"
          ],
          "name": "stdout"
        }
      ]
    },
    {
      "cell_type": "code",
      "metadata": {
        "id": "LJPsnxG4qhLl",
        "colab_type": "code",
        "outputId": "ec740a2e-c76c-436a-fc9d-a4a41ea743f3",
        "colab": {
          "base_uri": "https://localhost:8080/",
          "height": 289
        }
      },
      "source": [
        "### remove short words \n",
        "filter_length_udf = udf(lambda row: \" \".join([x for x in row if len(x) >= 4]))\n",
        "df_words = df_words.withColumn('words', filter_length_udf(col('words_clean'))).select('words')\n",
        "df_words.show(10)"
      ],
      "execution_count": 0,
      "outputs": [
        {
          "output_type": "stream",
          "text": [
            "+--------------------+\n",
            "|               words|\n",
            "+--------------------+\n",
            "|really happy evan...|\n",
            "|lived west guinea...|\n",
            "|excellent look co...|\n",
            "|anything challeng...|\n",
            "|great movie missi...|\n",
            "|movie english gre...|\n",
            "|fascinating true ...|\n",
            "|appears german en...|\n",
            "|movie english alt...|\n",
            "|sorry didnt purch...|\n",
            "+--------------------+\n",
            "only showing top 10 rows\n",
            "\n"
          ],
          "name": "stdout"
        }
      ]
    },
    {
      "cell_type": "code",
      "metadata": {
        "id": "JDoTmOPMWORC",
        "colab_type": "code",
        "outputId": "4b4b01bb-53b5-49e2-e41d-accd838b6f9a",
        "colab": {
          "base_uri": "https://localhost:8080/",
          "height": 459
        }
      },
      "source": [
        "#### dataframe of all words \n",
        "df2 = (df_words.select(explode(split(df_words.words, ' ')).alias('word')))\n",
        "df2 = df2.where(df2.word != '')\n",
        "df2.show(20)"
      ],
      "execution_count": 0,
      "outputs": [
        {
          "output_type": "stream",
          "text": [
            "+-----------+\n",
            "|       word|\n",
            "+-----------+\n",
            "|     really|\n",
            "|      happy|\n",
            "|evangelised|\n",
            "|    spoiler|\n",
            "|      alert|\n",
            "|      happy|\n",
            "|     ending|\n",
            "|      liked|\n",
            "|      since|\n",
            "|    started|\n",
            "|  worrisome|\n",
            "|       yeah|\n",
            "|      great|\n",
            "|    stories|\n",
            "| missionary|\n",
            "|     movies|\n",
            "|     really|\n",
            "|      short|\n",
            "|       half|\n",
            "|       hour|\n",
            "+-----------+\n",
            "only showing top 20 rows\n",
            "\n"
          ],
          "name": "stdout"
        }
      ]
    },
    {
      "cell_type": "code",
      "metadata": {
        "id": "YoJD8LzdXCFU",
        "colab_type": "code",
        "outputId": "2bcd4c83-47b3-4dc5-d5ad-4c1c2164b570",
        "colab": {
          "base_uri": "https://localhost:8080/",
          "height": 459
        }
      },
      "source": [
        "#### Top 20 words\n",
        "df2.groupby('word').count().orderBy('count',ascending = False).show(20)"
      ],
      "execution_count": 0,
      "outputs": [
        {
          "output_type": "stream",
          "text": [
            "+------+-------+\n",
            "|  word|  count|\n",
            "+------+-------+\n",
            "| movie|4676677|\n",
            "| great|2433556|\n",
            "|  good|2134841|\n",
            "|  film|1972270|\n",
            "|  like|1715319|\n",
            "|  love|1471078|\n",
            "| story|1259199|\n",
            "|  time|1206378|\n",
            "|really|1123810|\n",
            "| watch|1072902|\n",
            "|  well|1057312|\n",
            "|  show| 975041|\n",
            "|series| 961323|\n",
            "|  much| 905129|\n",
            "|movies| 905015|\n",
            "| first| 886252|\n",
            "|  even| 818535|\n",
            "|  best| 782918|\n",
            "|  also| 747424|\n",
            "|  dont| 716508|\n",
            "+------+-------+\n",
            "only showing top 20 rows\n",
            "\n"
          ],
          "name": "stdout"
        }
      ]
    }
  ]
}